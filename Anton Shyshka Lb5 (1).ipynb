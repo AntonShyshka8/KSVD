{
  "cells": [
    {
      "cell_type": "code",
      "source": [
        "import pandas as pd\n",
        "import matplotlib.pyplot as plt\n",
        "\n",
        "df = pd.read_csv('bestsellers with categories.csv')"
      ],
      "outputs": [],
      "execution_count": 35,
      "metadata": {
        "id": "8U0XHF4qBb5a",
        "executionInfo": {
          "status": "ok",
          "timestamp": 1712955600075,
          "user_tz": -180,
          "elapsed": 290,
          "user": {
            "displayName": "elantoniusWTF",
            "userId": "06910410914783240566"
          }
        }
      }
    },
    {
      "cell_type": "markdown",
      "source": [
        "Вивести схему даних."
      ],
      "metadata": {
        "id": "PJm8LnjmBwTB"
      }
    },
    {
      "cell_type": "code",
      "source": [
        "print(\"Схема даних:\")\n",
        "print(df.info())"
      ],
      "outputs": [
        {
          "output_type": "stream",
          "name": "stdout",
          "text": "Схема даних:\n<class 'pandas.core.frame.DataFrame'>\nRangeIndex: 550 entries, 0 to 549\nData columns (total 7 columns):\n #   Column       Non-Null Count  Dtype  \n---  ------       --------------  -----  \n 0   Name         550 non-null    object \n 1   Author       550 non-null    object \n 2   User Rating  550 non-null    float64\n 3   Reviews      550 non-null    int64  \n 4   Price        550 non-null    int64  \n 5   Year         550 non-null    int64  \n 6   Genre        550 non-null    object \ndtypes: float64(1), int64(3), object(3)\nmemory usage: 30.2+ KB\nNone\n"
        }
      ],
      "execution_count": 36,
      "metadata": {
        "colab": {
          "base_uri": "https://localhost:8080/"
        },
        "id": "oUCGq7GdBrS3",
        "executionInfo": {
          "status": "ok",
          "timestamp": 1712955602736,
          "user_tz": -180,
          "elapsed": 270,
          "user": {
            "displayName": "elantoniusWTF",
            "userId": "06910410914783240566"
          }
        },
        "outputId": "5274b219-ffe5-45e2-abef-abd3add81f5a"
      }
    },
    {
      "cell_type": "markdown",
      "source": [
        "Вивести назви стовпців і типи даних за допомогою dtypes"
      ],
      "metadata": {
        "id": "9MPFic3yByBg"
      }
    },
    {
      "cell_type": "code",
      "source": [
        "print(\"\\nНазви стовпців та типи даних:\")\n",
        "print(df.dtypes)"
      ],
      "outputs": [
        {
          "output_type": "stream",
          "name": "stdout",
          "text": "\nНазви стовпців та типи даних:\nName            object\nAuthor          object\nUser Rating    float64\nReviews          int64\nPrice            int64\nYear             int64\nGenre           object\ndtype: object\n"
        }
      ],
      "execution_count": 37,
      "metadata": {
        "colab": {
          "base_uri": "https://localhost:8080/"
        },
        "id": "9lHwVTTwByZ8",
        "executionInfo": {
          "status": "ok",
          "timestamp": 1712955604844,
          "user_tz": -180,
          "elapsed": 277,
          "user": {
            "displayName": "elantoniusWTF",
            "userId": "06910410914783240566"
          }
        },
        "outputId": "3d58cea9-7ec2-478a-ec7c-e9937a7de230"
      }
    },
    {
      "cell_type": "markdown",
      "source": [
        "Виведіть перші п'ять рядків (використовується метод head)"
      ],
      "metadata": {
        "id": "XwVed-iVByr-"
      }
    },
    {
      "cell_type": "code",
      "source": [
        "print(\"\\nПерші п'ять рядків:\")\n",
        "print(df.head())"
      ],
      "outputs": [
        {
          "output_type": "stream",
          "name": "stdout",
          "text": "\nПерші п'ять рядків:\n                                                Name  \\\n0                      10-Day Green Smoothie Cleanse   \n1                                  11/22/63: A Novel   \n2            12 Rules for Life: An Antidote to Chaos   \n3                             1984 (Signet Classics)   \n4  5,000 Awesome Facts (About Everything!) (Natio...   \n\n                     Author  User Rating  Reviews  Price  Year        Genre  \n0                  JJ Smith          4.7    17350      8  2016  Non Fiction  \n1              Stephen King          4.6     2052     22  2011      Fiction  \n2        Jordan B. Peterson          4.7    18979     15  2018  Non Fiction  \n3             George Orwell          4.7    21424      6  2017      Fiction  \n4  National Geographic Kids          4.8     7665     12  2019  Non Fiction  \n"
        }
      ],
      "execution_count": 38,
      "metadata": {
        "colab": {
          "base_uri": "https://localhost:8080/"
        },
        "id": "8_-e-goXBzMv",
        "executionInfo": {
          "status": "ok",
          "timestamp": 1712955606735,
          "user_tz": -180,
          "elapsed": 376,
          "user": {
            "displayName": "elantoniusWTF",
            "userId": "06910410914783240566"
          }
        },
        "outputId": "c92fb2e2-b9c1-4522-d2f1-6d563bdbfa1b"
      }
    },
    {
      "cell_type": "markdown",
      "source": [
        "Вивести перший рядок за допомогою first()"
      ],
      "metadata": {
        "id": "drkNxM_NBzkO"
      }
    },
    {
      "cell_type": "code",
      "source": [
        "first_row = df.groupby(df.index).first()\n",
        "\n",
        "print(\"Перший рядок даних:\")\n",
        "print(first_row)"
      ],
      "outputs": [
        {
          "output_type": "stream",
          "name": "stdout",
          "text": "Перший рядок даних:\n                                                  Name  \\\n0                        10-Day Green Smoothie Cleanse   \n1                                    11/22/63: A Novel   \n2              12 Rules for Life: An Antidote to Chaos   \n3                               1984 (Signet Classics)   \n4    5,000 Awesome Facts (About Everything!) (Natio...   \n..                                                 ...   \n545       Wrecking Ball (Diary of a Wimpy Kid Book 14)   \n546  You Are a Badass: How to Stop Doubting Your Gr...   \n547  You Are a Badass: How to Stop Doubting Your Gr...   \n548  You Are a Badass: How to Stop Doubting Your Gr...   \n549  You Are a Badass: How to Stop Doubting Your Gr...   \n\n                       Author  User Rating  Reviews  Price  Year        Genre  \n0                    JJ Smith          4.7    17350      8  2016  Non Fiction  \n1                Stephen King          4.6     2052     22  2011      Fiction  \n2          Jordan B. Peterson          4.7    18979     15  2018  Non Fiction  \n3               George Orwell          4.7    21424      6  2017      Fiction  \n4    National Geographic Kids          4.8     7665     12  2019  Non Fiction  \n..                        ...          ...      ...    ...   ...          ...  \n545               Jeff Kinney          4.9     9413      8  2019      Fiction  \n546               Jen Sincero          4.7    14331      8  2016  Non Fiction  \n547               Jen Sincero          4.7    14331      8  2017  Non Fiction  \n548               Jen Sincero          4.7    14331      8  2018  Non Fiction  \n549               Jen Sincero          4.7    14331      8  2019  Non Fiction  \n\n[550 rows x 7 columns]\n"
        }
      ],
      "execution_count": 39,
      "metadata": {
        "colab": {
          "base_uri": "https://localhost:8080/"
        },
        "id": "Bdc_i_3FBz4Q",
        "executionInfo": {
          "status": "ok",
          "timestamp": 1712955608602,
          "user_tz": -180,
          "elapsed": 263,
          "user": {
            "displayName": "elantoniusWTF",
            "userId": "06910410914783240566"
          }
        },
        "outputId": "778564b0-517c-4ad5-db55-39fb862e632e"
      }
    },
    {
      "cell_type": "markdown",
      "source": [
        "Зробіть опис датасету за допомогою describe()"
      ],
      "metadata": {
        "id": "8MrakSF5B0Ej"
      }
    },
    {
      "cell_type": "code",
      "source": [
        "print(\"\\nОпис датасету:\")\n",
        "print(df.describe())"
      ],
      "outputs": [
        {
          "output_type": "stream",
          "name": "stdout",
          "text": "\nОпис датасету:\n       User Rating       Reviews       Price         Year\ncount   550.000000    550.000000  550.000000   550.000000\nmean      4.618364  11953.281818   13.100000  2014.000000\nstd       0.226980  11731.132017   10.842262     3.165156\nmin       3.300000     37.000000    0.000000  2009.000000\n25%       4.500000   4058.000000    7.000000  2011.000000\n50%       4.700000   8580.000000   11.000000  2014.000000\n75%       4.800000  17253.250000   16.000000  2017.000000\nmax       4.900000  87841.000000  105.000000  2019.000000\n"
        }
      ],
      "execution_count": 40,
      "metadata": {
        "colab": {
          "base_uri": "https://localhost:8080/"
        },
        "id": "xsr40FjIB0ZZ",
        "executionInfo": {
          "status": "ok",
          "timestamp": 1712955611288,
          "user_tz": -180,
          "elapsed": 347,
          "user": {
            "displayName": "elantoniusWTF",
            "userId": "06910410914783240566"
          }
        },
        "outputId": "997d4df3-cbcb-4001-f0c8-b5372132c8dc"
      }
    },
    {
      "cell_type": "markdown",
      "source": [
        "Виведіть список стовпців за допомогою columns()"
      ],
      "metadata": {
        "id": "GzFs8DHYB0ow"
      }
    },
    {
      "cell_type": "code",
      "source": [
        "print(\"\\nСписок стовпців:\")\n",
        "print(df.columns.tolist())"
      ],
      "outputs": [
        {
          "output_type": "stream",
          "name": "stdout",
          "text": "\nСписок стовпців:\n['Name', 'Author', 'User Rating', 'Reviews', 'Price', 'Year', 'Genre']\n"
        }
      ],
      "execution_count": 41,
      "metadata": {
        "colab": {
          "base_uri": "https://localhost:8080/"
        },
        "id": "UjgJqQyqB09F",
        "executionInfo": {
          "status": "ok",
          "timestamp": 1712955613281,
          "user_tz": -180,
          "elapsed": 287,
          "user": {
            "displayName": "elantoniusWTF",
            "userId": "06910410914783240566"
          }
        },
        "outputId": "c32895e6-768b-42d0-f5a6-63ea91d44e90"
      }
    },
    {
      "cell_type": "markdown",
      "source": [
        "Виведіть загальну кількість рядків даних за допомогою count()"
      ],
      "metadata": {
        "id": "ty6eDVgkB1bh"
      }
    },
    {
      "cell_type": "code",
      "source": [
        "row_count = df.count()\n",
        "print(\"Загальна кількість рядків даних:\", row_count)"
      ],
      "outputs": [
        {
          "output_type": "stream",
          "name": "stdout",
          "text": "Загальна кількість рядків даних: Name           550\nAuthor         550\nUser Rating    550\nReviews        550\nPrice          550\nYear           550\nGenre          550\ndtype: int64\n"
        }
      ],
      "execution_count": 42,
      "metadata": {
        "colab": {
          "base_uri": "https://localhost:8080/"
        },
        "id": "EhUZl5mtB1qg",
        "executionInfo": {
          "status": "ok",
          "timestamp": 1712955615062,
          "user_tz": -180,
          "elapsed": 271,
          "user": {
            "displayName": "elantoniusWTF",
            "userId": "06910410914783240566"
          }
        },
        "outputId": "783acc40-5714-4894-e420-14a2c85a6807"
      }
    },
    {
      "cell_type": "markdown",
      "source": [
        "Перевірте, чи у всіх рядків вистачає даних. Якщо є пропуски, замінить їх на NaN, потім тип даних на числовий."
      ],
      "metadata": {
        "id": "Lo96tir4B2Bn"
      }
    },
    {
      "cell_type": "code",
      "source": [
        "if df.isnull().values.any():\n",
        "    df.fillna(value=pd.np.nan, inplace=True)\n",
        "    df = df.astype(float)"
      ],
      "outputs": [],
      "execution_count": 43,
      "metadata": {
        "id": "vQHbV4hwB2P8",
        "executionInfo": {
          "status": "ok",
          "timestamp": 1712955616885,
          "user_tz": -180,
          "elapsed": 262,
          "user": {
            "displayName": "elantoniusWTF",
            "userId": "06910410914783240566"
          }
        }
      }
    },
    {
      "cell_type": "markdown",
      "source": [
        "Замініть комірки з пропущеними значенями на середні за стовпцем. І тип даних на float."
      ],
      "metadata": {
        "id": "6rVL3ZXOB2dg"
      }
    },
    {
      "cell_type": "code",
      "source": [
        "numeric_columns = df.select_dtypes(include=['float64', 'int64']).columns\n",
        "df[numeric_columns] = df[numeric_columns].fillna(df[numeric_columns].mean())\n",
        "\n",
        "print(\"\\nПерший рядок даних після заповнення пропущених значень середніми:\")\n",
        "print(df.head(1))\n",
        "\n",
        "numeric_columns = df.select_dtypes(include=['float64', 'int64']).columns\n",
        "df[numeric_columns] = df[numeric_columns].astype(float)\n",
        "\n",
        "print(\"\\nПерший рядок даних після конвертації типів даних:\")\n",
        "print(df.head(1))"
      ],
      "outputs": [
        {
          "output_type": "stream",
          "name": "stdout",
          "text": "\nПерший рядок даних після заповнення пропущених значень середніми:\n                            Name    Author  User Rating  Reviews  Price  Year  \\\n0  10-Day Green Smoothie Cleanse  JJ Smith          4.7    17350      8  2016   \n\n         Genre  \n0  Non Fiction  \n\nПерший рядок даних після конвертації типів даних:\n                            Name    Author  User Rating  Reviews  Price  \\\n0  10-Day Green Smoothie Cleanse  JJ Smith          4.7  17350.0    8.0   \n\n     Year        Genre  \n0  2016.0  Non Fiction  \n"
        }
      ],
      "execution_count": 44,
      "metadata": {
        "colab": {
          "base_uri": "https://localhost:8080/"
        },
        "id": "rDQmoIsQB2tM",
        "executionInfo": {
          "status": "ok",
          "timestamp": 1712955618523,
          "user_tz": -180,
          "elapsed": 398,
          "user": {
            "displayName": "elantoniusWTF",
            "userId": "06910410914783240566"
          }
        },
        "outputId": "04dbff54-895d-43e7-8efb-47a678dc07a7"
      }
    },
    {
      "cell_type": "markdown",
      "source": [
        "Змініть назви всіх колонок: назва з маленької букви, без пробілів через підкреслення."
      ],
      "metadata": {
        "id": "FKReGK2-B3Eo"
      }
    },
    {
      "cell_type": "code",
      "source": [
        "df.rename(columns=lambda x: x.lower().replace(' ', '_'), inplace=True)\n",
        "print(df.head())"
      ],
      "outputs": [
        {
          "output_type": "stream",
          "name": "stdout",
          "text": "                                                name  \\\n0                      10-Day Green Smoothie Cleanse   \n1                                  11/22/63: A Novel   \n2            12 Rules for Life: An Antidote to Chaos   \n3                             1984 (Signet Classics)   \n4  5,000 Awesome Facts (About Everything!) (Natio...   \n\n                     author  user_rating  reviews  price    year        genre  \n0                  JJ Smith          4.7  17350.0    8.0  2016.0  Non Fiction  \n1              Stephen King          4.6   2052.0   22.0  2011.0      Fiction  \n2        Jordan B. Peterson          4.7  18979.0   15.0  2018.0  Non Fiction  \n3             George Orwell          4.7  21424.0    6.0  2017.0      Fiction  \n4  National Geographic Kids          4.8   7665.0   12.0  2019.0  Non Fiction  \n"
        }
      ],
      "execution_count": 45,
      "metadata": {
        "colab": {
          "base_uri": "https://localhost:8080/"
        },
        "id": "7woGYhHnB3Sr",
        "executionInfo": {
          "status": "ok",
          "timestamp": 1712955621749,
          "user_tz": -180,
          "elapsed": 272,
          "user": {
            "displayName": "elantoniusWTF",
            "userId": "06910410914783240566"
          }
        },
        "outputId": "ac0203d8-6437-491f-fd5e-9d8bfe57fada"
      }
    },
    {
      "cell_type": "markdown",
      "source": [
        "df.columns = ['name', 'author', 'user_rating', 'reviews', 'price', 'year', 'genre']"
      ],
      "metadata": {
        "id": "sQ9fhMOJCIZT"
      }
    },
    {
      "cell_type": "code",
      "source": [
        "df.columns = ['name', 'author', 'user_rating', 'reviews', 'price', 'year', 'genre']"
      ],
      "outputs": [],
      "execution_count": 46,
      "metadata": {
        "id": "yCr9keQJCInY",
        "executionInfo": {
          "status": "ok",
          "timestamp": 1712955623725,
          "user_tz": -180,
          "elapsed": 271,
          "user": {
            "displayName": "elantoniusWTF",
            "userId": "06910410914783240566"
          }
        }
      }
    },
    {
      "cell_type": "markdown",
      "source": [
        "Знайдіть автора з найвищим рейтингом."
      ],
      "metadata": {
        "id": "A2YbihfLCI1H"
      }
    },
    {
      "cell_type": "code",
      "source": [
        "highest_rating_author = df[df['user_rating'] == df['user_rating'].max()]['author'].iloc[0]\n",
        "print(\"\\nАвтор з найвищим рейтингом:\", highest_rating_author)"
      ],
      "outputs": [
        {
          "output_type": "stream",
          "name": "stdout",
          "text": "\nАвтор з найвищим рейтингом: Bill Martin Jr.\n"
        }
      ],
      "execution_count": 47,
      "metadata": {
        "colab": {
          "base_uri": "https://localhost:8080/"
        },
        "id": "DfA5QbzWCJPk",
        "executionInfo": {
          "status": "ok",
          "timestamp": 1712955630983,
          "user_tz": -180,
          "elapsed": 260,
          "user": {
            "displayName": "elantoniusWTF",
            "userId": "06910410914783240566"
          }
        },
        "outputId": "7c7c8f82-0979-44a5-f9e5-25142f3a39f7"
      }
    },
    {
      "cell_type": "markdown",
      "source": [
        "Знайдіть автора з найнижчим рейтингом."
      ],
      "metadata": {
        "id": "G1T3qG4mCJdP"
      }
    },
    {
      "cell_type": "code",
      "source": [
        "lowest_rating_author = df[df['user_rating'] == df['user_rating'].min()]['author'].iloc[0]\n",
        "print(\"Автор з найнижчим рейтингом:\", lowest_rating_author)"
      ],
      "outputs": [
        {
          "output_type": "stream",
          "name": "stdout",
          "text": "Автор з найнижчим рейтингом: J.K. Rowling\n"
        }
      ],
      "execution_count": 48,
      "metadata": {
        "colab": {
          "base_uri": "https://localhost:8080/"
        },
        "id": "16MQcaweCJsD",
        "executionInfo": {
          "status": "ok",
          "timestamp": 1712955632725,
          "user_tz": -180,
          "elapsed": 253,
          "user": {
            "displayName": "elantoniusWTF",
            "userId": "06910410914783240566"
          }
        },
        "outputId": "56ebb2f4-0b72-4f42-d158-a522bc17ffc4"
      }
    },
    {
      "cell_type": "markdown",
      "source": [
        "Знайдіть автора, що має найбільшу кількіть рецензій."
      ],
      "metadata": {
        "id": "jp_nFtCoCKDR"
      }
    },
    {
      "cell_type": "code",
      "source": [
        "most_reviewed_author = df[df['reviews'] == df['reviews'].max()]['author'].iloc[0]\n",
        "print(\"Автор з найбільшою кількістю рецензій:\", most_reviewed_author)"
      ],
      "outputs": [
        {
          "output_type": "stream",
          "name": "stdout",
          "text": "Автор з найбільшою кількістю рецензій: Delia Owens\n"
        }
      ],
      "execution_count": 49,
      "metadata": {
        "colab": {
          "base_uri": "https://localhost:8080/"
        },
        "id": "S4axTw57CKQv",
        "executionInfo": {
          "status": "ok",
          "timestamp": 1712955634605,
          "user_tz": -180,
          "elapsed": 400,
          "user": {
            "displayName": "elantoniusWTF",
            "userId": "06910410914783240566"
          }
        },
        "outputId": "d27d387b-f6f6-4a1b-ae91-ba4ab84a9059"
      }
    },
    {
      "cell_type": "markdown",
      "source": [
        "Побудуйте гістограму рейтингу 10 найкращих книг (відібрати книги з найбільшим рейтингом)."
      ],
      "metadata": {
        "id": "P-ESJ_0rCKbi"
      }
    },
    {
      "cell_type": "code",
      "source": [
        "top_10_books = df.nlargest(10, \"user_rating\")\n",
        "\n",
        "plt.figure(figsize=(15, 6))\n",
        "plt.bar(top_10_books[\"name\"], top_10_books[\"user_rating\"], width=0.6)\n",
        "\n",
        "plt.xticks(rotation=90, ha=\"right\", fontsize=8)\n",
        "\n",
        "plt.xlabel(\"Назва книги\", fontsize=12)\n",
        "plt.ylabel(\"Рейтинг\", fontsize=12)\n",
        "\n",
        "plt.tight_layout()\n",
        "plt.show()"
      ],
      "outputs": [
        {
          "output_type": "stream",
          "name": "stderr",
          "text": "<ipython-input-59-2b337f8f98bf>:11: UserWarning: Tight layout not applied. The bottom and top margins cannot be made large enough to accommodate all axes decorations.\n  plt.tight_layout()\n"
        },
        {
          "output_type": "display_data",
          "data": {
            "text/plain": "<Figure size 1500x600 with 1 Axes>",
            "image/png": "[encoded data removed]"
          },
          "metadata": {}
        }
      ],
      "execution_count": 59,
      "metadata": {
        "colab": {
          "base_uri": "https://localhost:8080/",
          "height": 629
        },
        "id": "ZdgaBR8NCK4t",
        "executionInfo": {
          "status": "ok",
          "timestamp": 1712955905574,
          "user_tz": -180,
          "elapsed": 998,
          "user": {
            "displayName": "elantoniusWTF",
            "userId": "06910410914783240566"
          }
        },
        "outputId": "117fa3e1-86e2-4b09-9c6a-386f72343f96"
      }
    },
    {
      "cell_type": "markdown",
      "source": [
        "Побудуйте матрицю кореляції для стовпчиків 'user_rating', 'reviews', 'price'."
      ],
      "metadata": {
        "id": "6rLcvrbFCLNN"
      }
    },
    {
      "cell_type": "code",
      "source": [
        "correlation_matrix = df[['user_rating', 'reviews', 'price']].corr()\n",
        "print(\"\\nМатриця кореляції:\")\n",
        "print(correlation_matrix)"
      ],
      "outputs": [
        {
          "output_type": "stream",
          "name": "stdout",
          "text": "\nМатриця кореляції:\n             user_rating   reviews     price\nuser_rating     1.000000 -0.001729 -0.133086\nreviews        -0.001729  1.000000 -0.109182\nprice          -0.133086 -0.109182  1.000000\n"
        }
      ],
      "execution_count": 52,
      "metadata": {
        "colab": {
          "base_uri": "https://localhost:8080/"
        },
        "id": "Qt0n10fMCLc7",
        "executionInfo": {
          "status": "ok",
          "timestamp": 1712955689618,
          "user_tz": -180,
          "elapsed": 263,
          "user": {
            "displayName": "elantoniusWTF",
            "userId": "06910410914783240566"
          }
        },
        "outputId": "3ddcf8a4-171b-4da9-fe78-e8259ebd22d2"
      }
    }
  ],
  "metadata": {
    "colab": {
      "provenance": [],
      "authorship_tag": "ABX9TyMl3gnG/SA6a2zCwk850d6v"
    },
    "kernelspec": {
      "name": "python3",
      "display_name": "Python 3"
    },
    "language_info": {
      "name": "python"
    },
    "nteract": {
      "version": "nteract-front-end@1.0.0"
    }
  },
  "nbformat": 4,
  "nbformat_minor": 0
}